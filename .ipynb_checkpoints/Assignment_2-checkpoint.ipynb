{
 "cells": [
  {
   "cell_type": "markdown",
   "metadata": {},
   "source": [
    "<h1><center>CSEN1022:Assignment 2</center></h1>\n",
    "<h3><center>Winter 2021</center></h3>\n",
    "<hr style=\"border:2px solid black\"> </hr>"
   ]
  },
  {
   "cell_type": "markdown",
   "metadata": {},
   "source": [
    "## <u> Please don't forget to fill in this data </u>\n",
    "**Member 1**\n",
    "\n",
    "Name: Noureldin Ghazal\n",
    "\n",
    "GUC-ID: 43-15747\n",
    "\n",
    "Elective Tutorial No.: T07\n",
    "\n",
    "**Member 2**\n",
    "\n",
    "Name:Mohamed Ahmed Mohamed Alekhsasy\n",
    "\n",
    "GUC-ID:43-16620\n",
    "\n",
    "Elective Tutorial No.:T03\n",
    "\n",
    "<hr style=\"border:2px solid black\"> </hr>"
   ]
  },
  {
   "cell_type": "markdown",
   "metadata": {},
   "source": [
    "## Imports (Don't Edit)"
   ]
  },
  {
   "cell_type": "code",
   "execution_count": 1,
   "metadata": {},
   "outputs": [
    {
     "ename": "ModuleNotFoundError",
     "evalue": "No module named 'cv2'",
     "output_type": "error",
     "traceback": [
      "\u001b[1;31m---------------------------------------------------------------------------\u001b[0m",
      "\u001b[1;31mModuleNotFoundError\u001b[0m                       Traceback (most recent call last)",
      "\u001b[1;32m~\\AppData\\Local\\Temp/ipykernel_2376/639783698.py\u001b[0m in \u001b[0;36m<module>\u001b[1;34m\u001b[0m\n\u001b[0;32m      3\u001b[0m \u001b[1;32mimport\u001b[0m \u001b[0mnumpy\u001b[0m \u001b[1;32mas\u001b[0m \u001b[0mnp\u001b[0m\u001b[1;33m\u001b[0m\u001b[1;33m\u001b[0m\u001b[0m\n\u001b[0;32m      4\u001b[0m \u001b[1;32mimport\u001b[0m \u001b[0mmatplotlib\u001b[0m\u001b[1;33m.\u001b[0m\u001b[0mpyplot\u001b[0m \u001b[1;32mas\u001b[0m \u001b[0mplt\u001b[0m\u001b[1;33m\u001b[0m\u001b[1;33m\u001b[0m\u001b[0m\n\u001b[1;32m----> 5\u001b[1;33m \u001b[1;32mimport\u001b[0m \u001b[0mcv2\u001b[0m\u001b[1;33m\u001b[0m\u001b[1;33m\u001b[0m\u001b[0m\n\u001b[0m\u001b[0;32m      6\u001b[0m \u001b[0mget_ipython\u001b[0m\u001b[1;33m(\u001b[0m\u001b[1;33m)\u001b[0m\u001b[1;33m.\u001b[0m\u001b[0mrun_line_magic\u001b[0m\u001b[1;33m(\u001b[0m\u001b[1;34m'matplotlib'\u001b[0m\u001b[1;33m,\u001b[0m \u001b[1;34m'inline'\u001b[0m\u001b[1;33m)\u001b[0m\u001b[1;33m\u001b[0m\u001b[1;33m\u001b[0m\u001b[0m\n\u001b[0;32m      7\u001b[0m \u001b[0mconfusion_matrices_nb\u001b[0m \u001b[1;33m=\u001b[0m \u001b[1;33m[\u001b[0m\u001b[1;33m]\u001b[0m\u001b[1;33m\u001b[0m\u001b[1;33m\u001b[0m\u001b[0m\n",
      "\u001b[1;31mModuleNotFoundError\u001b[0m: No module named 'cv2'"
     ]
    }
   ],
   "source": [
    "# ONLY USE THESE IMPORTS.\n",
    "# PLEASE DON'T EDIT THIS CELL.\n",
    "import numpy as np\n",
    "import matplotlib.pyplot as plt\n",
    "import cv2\n",
    "%matplotlib inline\n",
    "confusion_matrices_nb = []\n",
    "confusion_matrices_gm = []"
   ]
  },
  {
   "cell_type": "markdown",
   "metadata": {},
   "source": [
    "## Read Data"
   ]
  },
  {
   "cell_type": "code",
   "execution_count": null,
   "metadata": {},
   "outputs": [],
   "source": [
    "# X_train, X_test"
   ]
  },
  {
   "cell_type": "markdown",
   "metadata": {},
   "source": [
    "<hr style=\"border:2px solid black\"> </hr>\n",
    "\n",
    "## Construct Naive Bayes classifier for each of the 3 classes.\n",
    "#### Test each classifier on all images in X_Test. \n",
    "#### Construct Confusion Matrix."
   ]
  },
  {
   "cell_type": "code",
   "execution_count": null,
   "metadata": {},
   "outputs": [],
   "source": [
    "#confusion_matrices_nb += [confusion_matrix]"
   ]
  },
  {
   "cell_type": "markdown",
   "metadata": {},
   "source": [
    "<hr style=\"border:2px solid black\"> </hr>\n",
    "\n",
    "## Construct Gaussian Generative Model classifier for each of the 3 classes.\n",
    "#### Test each classifier on all images in X_Test. \n",
    "#### Construct Confusion Matrix."
   ]
  },
  {
   "cell_type": "code",
   "execution_count": null,
   "metadata": {},
   "outputs": [],
   "source": [
    "#confusion_matrices_gm += [confusion_matrix]"
   ]
  },
  {
   "cell_type": "markdown",
   "metadata": {},
   "source": [
    "<hr style=\"border:2px solid black\"> </hr>\n",
    "\n",
    "## Repeat previous two confusion matrices for image sizes 16,8,4.\n",
    "### Return confusion_matrices (array containing 8 matrices, 4 for naive bayes, 4 for gaussian generative model). \n",
    "#### confusion_matrices_nb = [confusion_matrix_nb_32, confusion_matrix_nb_16, confusion_matrix_nb_8, confusion_matrix_nb_4].\n",
    "#### confusion_matrices_gm = [confusion_matrix_gm_32, confusion_matrix_gm_16, confusion_matrix_gm_8, confusion_matrix_gm_4]."
   ]
  },
  {
   "cell_type": "code",
   "execution_count": null,
   "metadata": {},
   "outputs": [],
   "source": [
    "#confusion_matrices = confusion_matrices_nb + confusion_matrices_gm"
   ]
  },
  {
   "cell_type": "markdown",
   "metadata": {},
   "source": [
    "<hr style=\"border:2px solid black\"> </hr>\n",
    "\n",
    "## The below 2 cells will only work if you return confusion_matrices (previous cell) with all 8 matrices in it.\n",
    "## Please don't edit the below cells.\n",
    "## Please run them and save the notebook before uploading so the script can check the saved image.\n",
    "## Please don't change the order of the matrices.\n"
   ]
  },
  {
   "cell_type": "code",
   "execution_count": null,
   "metadata": {},
   "outputs": [],
   "source": [
    "dims = [32,16,8,4,32,16,8,4]\n",
    "fig, axs = plt.subplots(2, 4,figsize=(20,10))\n",
    "fig.suptitle(\"Confusion Matrix for each Scale\",fontsize=30)\n",
    "for pi in range(0,axs.shape[0]):\n",
    "    for pj in range(0,axs.shape[1]):\n",
    "        index = np.round(pi*4+pj)\n",
    "        cm = confusion_matrices[index]\n",
    "        axs[pi,pj].matshow(cm,cmap=\"Blues\")\n",
    "        axs[pi,pj].set_title(\"For d=\"+str(dims[index])+\" ,acc=\"+str(np.round(np.diag(cm).sum()/3000,3)),fontsize=20)\n",
    "        for i in range(0,cm.shape[0]):\n",
    "            for j in range(0,cm.shape[1]):\n",
    "                axs[pi,pj].set_xticks([])\n",
    "                axs[pi,pj].set_yticks([])\n",
    "                axs[pi,pj].annotate(cm[i,j],(j,i))"
   ]
  },
  {
   "cell_type": "code",
   "execution_count": null,
   "metadata": {},
   "outputs": [],
   "source": [
    "plt.figure(figsize=(20,10))\n",
    "plt.plot(dims[:4],[np.diag(cm).sum()/3000 for cm in confusion_matrices_nb],color='orange')\n",
    "plt.plot(dims[:4],[np.diag(cm).sum()/3000 for cm in confusion_matrices_gm],color='blue')\n",
    "plt.xlabel('Scale')\n",
    "plt.ylabel('Accuracy')\n",
    "plt.title('NB VS GM')"
   ]
  },
  {
   "cell_type": "markdown",
   "metadata": {},
   "source": [
    "<hr style=\"border:2px solid black\"> </hr>\n",
    "\n",
    "## Comment on the results ##\n",
    "\n",
    "### \n",
    "Edit Here\n",
    "###"
   ]
  }
 ],
 "metadata": {
  "interpreter": {
   "hash": "31f2aee4e71d21fbe5cf8b01ff0e069b9275f58929596ceb00d14d90e3e16cd6"
  },
  "kernelspec": {
   "display_name": "Python 3 (ipykernel)",
   "language": "python",
   "name": "python3"
  },
  "language_info": {
   "codemirror_mode": {
    "name": "ipython",
    "version": 3
   },
   "file_extension": ".py",
   "mimetype": "text/x-python",
   "name": "python",
   "nbconvert_exporter": "python",
   "pygments_lexer": "ipython3",
   "version": "3.7.1"
  }
 },
 "nbformat": 4,
 "nbformat_minor": 4
}
